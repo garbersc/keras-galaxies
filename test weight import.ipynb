{
 "cells": [
  {
   "cell_type": "code",
   "execution_count": 1,
   "metadata": {
    "collapsed": false
   },
   "outputs": [
    {
     "name": "stdout",
     "output_type": "stream",
     "text": [
      "cuda_available starts with True \n",
      "cuda_available True \n"
     ]
    },
    {
     "name": "stderr",
     "output_type": "stream",
     "text": [
      "Mapped name None to device cuda: GeForce GT 730\n",
      "PCI Bus ID: 0000:01:00.0\n",
      "Using cuDNN version 5110 on context None\n"
     ]
    }
   ],
   "source": [
    "import theano.sandbox.cuda.basic_ops as sbcuda\n",
    "import numpy as np\n",
    "# import pandas as pd\n",
    "import theano\n",
    "import theano.tensor as T\n",
    "import layers\n",
    "import cc_layers\n",
    "import custom\n",
    "import load_data\n",
    "import realtime_augmentation as ra\n",
    "import time\n",
    "import csv\n",
    "import os\n",
    "import cPickle as pickle\n",
    "from datetime import datetime, timedelta\n"
   ]
  },
  {
   "cell_type": "code",
   "execution_count": 8,
   "metadata": {
    "collapsed": false
   },
   "outputs": [],
   "source": [
    "ANALYSIS_PATH = \"analysis/final/try_convnet_Christmas1.pkl\"\n",
    "analysis = np.load(ANALYSIS_PATH)\n",
    "w =  analysis['param_values']"
   ]
  },
  {
   "cell_type": "code",
   "execution_count": 13,
   "metadata": {
    "collapsed": false
   },
   "outputs": [
    {
     "name": "stdout",
     "output_type": "stream",
     "text": [
      "14\n",
      "\n",
      "2048\n",
      "37\n",
      "2048\n",
      "4096\n",
      "4096\n",
      "4096\n",
      "128\n",
      "128\n",
      "64\n",
      "128\n",
      "32\n",
      "64\n",
      "3\n",
      "32\n"
     ]
    }
   ],
   "source": [
    "print len(w)\n",
    "print \n",
    "for i in w:\n",
    "    print len(i)"
   ]
  },
  {
   "cell_type": "code",
   "execution_count": 17,
   "metadata": {
    "collapsed": false
   },
   "outputs": [
    {
     "name": "stdout",
     "output_type": "stream",
     "text": [
      "<type 'numpy.ndarray'>\n",
      "(2048, 37)\n",
      "<type 'numpy.ndarray'>\n",
      "(37,)\n",
      "<type 'numpy.ndarray'>\n",
      "(2048, 4096)\n",
      "<type 'numpy.ndarray'>\n",
      "(4096,)\n",
      "<type 'numpy.ndarray'>\n",
      "(4096, 4096)\n",
      "<type 'numpy.ndarray'>\n",
      "(4096,)\n",
      "<type 'numpy.ndarray'>\n",
      "(128, 3, 3, 128)\n",
      "<type 'numpy.ndarray'>\n",
      "(128, 4, 4)\n",
      "<type 'numpy.ndarray'>\n",
      "(64, 3, 3, 128)\n",
      "<type 'numpy.ndarray'>\n",
      "(128, 6, 6)\n",
      "<type 'numpy.ndarray'>\n",
      "(32, 5, 5, 64)\n",
      "<type 'numpy.ndarray'>\n",
      "(64, 16, 16)\n",
      "<type 'numpy.ndarray'>\n",
      "(3, 6, 6, 32)\n",
      "<type 'numpy.ndarray'>\n",
      "(32, 40, 40)\n"
     ]
    }
   ],
   "source": [
    "for i in range(len(w)):\n",
    "    print type(w[i])\n",
    "    print np.shape(w[i])\n"
   ]
  },
  {
   "cell_type": "code",
   "execution_count": 21,
   "metadata": {
    "collapsed": false
   },
   "outputs": [],
   "source": [
    "w_pairs=[]\n",
    "for i in range(len(w)/2):\n",
    "    w_pairs.append([w[2*i],w[2*i+1]])"
   ]
  },
  {
   "cell_type": "code",
   "execution_count": 26,
   "metadata": {
    "collapsed": false
   },
   "outputs": [
    {
     "name": "stdout",
     "output_type": "stream",
     "text": [
      "<type 'list'>\n",
      "(2048, 37)\n",
      "(37,)\n",
      "<type 'list'>\n",
      "(2048, 4096)\n",
      "(4096,)\n",
      "<type 'list'>\n",
      "(4096, 4096)\n",
      "(4096,)\n",
      "<type 'list'>\n",
      "(128, 3, 3, 128)\n",
      "(128, 4, 4)\n",
      "<type 'list'>\n",
      "(64, 3, 3, 128)\n",
      "(128, 6, 6)\n",
      "<type 'list'>\n",
      "(32, 5, 5, 64)\n",
      "(64, 16, 16)\n",
      "<type 'list'>\n",
      "(3, 6, 6, 32)\n",
      "(32, 40, 40)\n"
     ]
    }
   ],
   "source": [
    "for i in range(len(w_pairs)):\n",
    "    print type(w_pairs[i])\n",
    "    print np.shape(w_pairs[i][0])\n",
    "    print np.shape(w_pairs[i][1])\n"
   ]
  },
  {
   "cell_type": "code",
   "execution_count": 27,
   "metadata": {
    "collapsed": false
   },
   "outputs": [
    {
     "name": "stdout",
     "output_type": "stream",
     "text": [
      "(3, 6, 6, 32)\n",
      "(32, 40, 40)\n"
     ]
    }
   ],
   "source": [
    "a=w_pairs.pop()\n",
    "print np.shape(a[0])\n",
    "print np.shape(a[1])"
   ]
  },
  {
   "cell_type": "code",
   "execution_count": null,
   "metadata": {
    "collapsed": true
   },
   "outputs": [],
   "source": []
  }
 ],
 "metadata": {
  "kernelspec": {
   "display_name": "Python 2",
   "language": "python",
   "name": "python2"
  },
  "language_info": {
   "codemirror_mode": {
    "name": "ipython",
    "version": 2
   },
   "file_extension": ".py",
   "mimetype": "text/x-python",
   "name": "python",
   "nbconvert_exporter": "python",
   "pygments_lexer": "ipython2",
   "version": "2.7.12"
  }
 },
 "nbformat": 4,
 "nbformat_minor": 2
}
